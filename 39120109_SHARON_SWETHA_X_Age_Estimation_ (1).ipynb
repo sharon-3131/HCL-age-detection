{
  "cells": [
    {
      "cell_type": "code",
      "execution_count": null,
      "metadata": {
        "id": "Cw-Fkqo9ru2P"
      },
      "outputs": [],
      "source": [
        "from google.colab import drive\n",
        "drive.mount('/content/drive')"
      ]
    },
    {
      "cell_type": "code",
      "execution_count": null,
      "metadata": {
        "id": "TT7KLszMk0iB"
      },
      "outputs": [],
      "source": [
        "%cd /content/drive/MyDrive/"
      ]
    },
    {
      "cell_type": "code",
      "execution_count": null,
      "metadata": {
        "id": "V8XOXk00k3-5"
      },
      "outputs": [],
      "source": [
        "import os\n",
        "import zipfile\n",
        "zip_ref=zipfile.ZipFile(\"/content/drive/MyDrive/FGNET.zip\",'r')\n",
        "zip_ref.extractall('/content/drive/MyDrive/FG_NET')\n",
        "zip_ref.close()"
      ]
    },
    {
      "cell_type": "code",
      "execution_count": null,
      "metadata": {
        "id": "mMel0gBCmmXQ"
      },
      "outputs": [],
      "source": [
        "!ls \"/content/drive/MyDrive/FG-NET/FGNET\""
      ]
    },
    {
      "cell_type": "code",
      "execution_count": null,
      "metadata": {
        "id": "Qlw6svSr_o6m"
      },
      "outputs": [],
      "source": [
        "import os\n",
        "data_dir=\"/content/drive/MyDrive/FG-NET/FGNET/images\"\n",
        "files=os.listdir(data_dir)\n",
        "print(len(files))"
      ]
    },
    {
      "cell_type": "code",
      "execution_count": null,
      "metadata": {
        "id": "saeDdl9VBb3f"
      },
      "outputs": [],
      "source": [
        "# import os\n",
        "# data_dir = 'FGNET/images'\n",
        "\n",
        "# files = os.listdir(data_dir)\n",
        "\n",
        "# print(len(files))"
      ]
    },
    {
      "cell_type": "code",
      "execution_count": null,
      "metadata": {
        "id": "Wk6nCFgID5Db"
      },
      "outputs": [],
      "source": [
        "import numpy as np\n",
        "ages = []\n",
        "for age in files:\n",
        "  age = age[age.find('A') + 1: age.find('A') + 1 + 2]\n",
        "  # print(age)\n",
        "  ages.append(int(age))\n",
        "\n",
        "ages = np.array(ages)"
      ]
    },
    {
      "cell_type": "code",
      "execution_count": null,
      "metadata": {
        "id": "o3rftPnmJ-uL"
      },
      "outputs": [],
      "source": [
        "len(ages)"
      ]
    },
    {
      "cell_type": "markdown",
      "metadata": {
        "id": "HpKIPwhC6EH_"
      },
      "source": [
        "# **Perform Data Exploration**"
      ]
    },
    {
      "cell_type": "code",
      "execution_count": null,
      "metadata": {
        "id": "xVBKKTWvFTOy"
      },
      "outputs": [],
      "source": [
        "import matplotlib.pyplot as plt\n",
        "\n",
        "def _plot_bar(varname):\n",
        "  labels, values = np.unique(ages, return_counts=True)\n",
        "  plt.figure(figsize=(10, 6))\n",
        "  ax = plt.subplot()\n",
        "  ax.bar(x=labels, height=values)\n",
        "  ax.set_title('No samples of ' + varname)\n",
        "  ax.set_xlabel(varname)\n",
        "  ax.set_ylabel('No samples')\n",
        "  plt.show()\n",
        "\n",
        "_plot_bar('ages')"
      ]
    },
    {
      "cell_type": "code",
      "execution_count": null,
      "metadata": {
        "id": "htuwnJzpGPx3"
      },
      "outputs": [],
      "source": [
        "import pandas as pd\n",
        "\n",
        "labels, values = np.unique(ages, return_counts=True)\n",
        "age_df = pd.DataFrame(data = values, index = labels, columns = ['Freq'])\n",
        "\n",
        "age_df"
      ]
    },
    {
      "cell_type": "code",
      "execution_count": null,
      "metadata": {
        "id": "KD7ZYDgbIH8i"
      },
      "outputs": [],
      "source": [
        "age_df.describe()"
      ]
    },
    {
      "cell_type": "code",
      "execution_count": null,
      "metadata": {
        "id": "uvuAY72KIUWE"
      },
      "outputs": [],
      "source": [
        "\n",
        "\n",
        "\n",
        "age_df.loc[age_df.idxmax()]"
      ]
    },
    {
      "cell_type": "code",
      "execution_count": null,
      "metadata": {
        "id": "qZw4yxeGIpd2"
      },
      "outputs": [],
      "source": [
        "age_df.loc[age_df.idxmin()]"
      ]
    },
    {
      "cell_type": "code",
      "execution_count": null,
      "metadata": {
        "id": "R3mphVq8OrIP"
      },
      "outputs": [],
      "source": [
        "age_lst = list(age_df.index.values)"
      ]
    },
    {
      "cell_type": "code",
      "execution_count": null,
      "metadata": {
        "id": "kgKW1o9fNMFc"
      },
      "outputs": [],
      "source": [
        "#Find missing ages\n",
        "miss_ages = []\n",
        "for age in range(70):\n",
        "  if age not in age_lst:\n",
        "    miss_ages.append(age)\n",
        "\n",
        "miss_ages"
      ]
    },
    {
      "cell_type": "code",
      "execution_count": null,
      "metadata": {
        "id": "p4fntiFfDAlO"
      },
      "outputs": [],
      "source": [
        "import numpy as np\n",
        "from PIL import Image\n",
        "import progressbar\n",
        "\n",
        "widgets = ['Reading images:',progressbar.Percentage(), \" \", progressbar.Bar(), \" \", progressbar.ETA()]\n",
        "pbar = progressbar.ProgressBar(maxval = len(files), widgets = widgets).start()\n",
        "\n",
        "images = []\n",
        "for i, imageData in enumerate(files):\n",
        "  image = np.array(Image.open(data_dir + '/' + imageData).convert('RGB').resize((224, 224)))\n",
        "  images.append(image)\n",
        "  pbar.update(i)\n",
        "\n",
        "pbar.finish()\n",
        "\n",
        "images = np.array(images)"
      ]
    },
    {
      "cell_type": "code",
      "execution_count": null,
      "metadata": {
        "id": "E7Cm4BS-MPgH"
      },
      "outputs": [],
      "source": [
        "from matplotlib import image\n",
        "\n",
        "plt.figure(figsize = (6, 6))\n",
        "plt.imshow(images[10])\n",
        "plt.show()"
      ]
    },
    {
      "cell_type": "code",
      "execution_count": null,
      "metadata": {
        "id": "W3KSkYVgMu3S"
      },
      "outputs": [],
      "source": [
        "\n",
        "\n",
        "\n",
        "print(ages[10])"
      ]
    },
    {
      "cell_type": "code",
      "execution_count": null,
      "metadata": {
        "id": "eiT8i4x8d6Uj"
      },
      "outputs": [],
      "source": [
        "images[0].shape"
      ]
    },
    {
      "cell_type": "code",
      "execution_count": null,
      "metadata": {
        "id": "hFaW1kiePPqO"
      },
      "outputs": [],
      "source": [
        "import matplotlib\n",
        "def displayImage(startIdx, numImages, imagePath, showAge = True):\n",
        "  endIdx = startIdx + numImages\n",
        "  size = (5,5)\n",
        "  fig = plt.figure(figsize = (3*numImages, 2*numImages))\n",
        "  listImage = os.listdir(imagePath)\n",
        "  for i, imagename in enumerate(listImage[startIdx : endIdx]):\n",
        "    ax = fig.add_subplot(size[0], size[1], i + 1, xticks = [], yticks = [])\n",
        "    img = matplotlib.image.imread(imagePath + '/' + imagename)\n",
        "    ax.imshow(img)\n",
        "    if showAge:\n",
        "      ax.set_title('Imagename: {}, Age: {}'.format(imagename, ages[startIdx + i]), color = 'green')"
      ]
    },
    {
      "cell_type": "code",
      "execution_count": null,
      "metadata": {
        "id": "_st2YDuGSUTV"
      },
      "outputs": [],
      "source": [
        "displayImage(20, 10, '/content/drive/MyDrive/FG-NET/FGNET/images')"
      ]
    },
    {
      "cell_type": "markdown",
      "metadata": {
        "id": "l1jYQMYia-hD"
      },
      "source": [
        "**Split data in training set and validation set**"
      ]
    },
    {
      "cell_type": "code",
      "execution_count": null,
      "metadata": {
        "id": "V4b4i4ycbdmM"
      },
      "outputs": [],
      "source": [
        "from sklearn.model_selection import train_test_split\n",
        "\n",
        "images = images.astype('float')/255\n",
        "\n",
        "(trainData, testData, trainLabels, testLabels) = train_test_split(images, ages, test_size = 0.2, random_state = 42, shuffle =True)"
      ]
    },
    {
      "cell_type": "markdown",
      "metadata": {
        "id": "DaeSFDCYbSoB"
      },
      "source": [
        "**Create Dataset with tf.data.Dataset**"
      ]
    },
    {
      "cell_type": "code",
      "execution_count": null,
      "metadata": {
        "id": "eFxsDVcZMSy-"
      },
      "outputs": [],
      "source": [
        "import tensorflow as tf\n",
        "train_dataset = tf.data.Dataset.from_tensor_slices((trainData, trainLabels))\n",
        "test_dataset = tf.data.Dataset.from_tensor_slices((testData, testLabels))"
      ]
    },
    {
      "cell_type": "markdown",
      "metadata": {
        "id": "XXmUiEKn5m2u"
      },
      "source": [
        "# **Perform Data Augmentation**"
      ]
    },
    {
      "cell_type": "code",
      "execution_count": null,
      "metadata": {
        "id": "iCvjUqvaXINv"
      },
      "outputs": [],
      "source": [
        "def augment(image,label, mode):\n",
        "  if mode == 'train':\n",
        "    # image = tf.image.resize_with_crop_or_pad(image, 230, 230) # Add 6 pixels of padding\n",
        "    image = tf.image.random_crop(image, size=[218, 218, 3])\n",
        "    image = tf.image.resize(image, size=[224, 224])\n",
        "    image = tf.image.random_saturation(image, 2, 3)\n",
        "    image = tf.image.random_brightness(image, max_delta=0.5) # Random brightness\n",
        "    image = tf.image.random_flip_left_right(image)\n",
        "    return image,label\n",
        "  else:\n",
        "    image_cropped = tf.image.crop_to_bounding_box(image, offset_height=20, offset_width=0, target_height=200, target_width=224)\n",
        "    image_resized = tf.image.resize(image_cropped, size= [224,224])\n",
        "    return image_resized, label"
      ]
    },
    {
      "cell_type": "code",
      "execution_count": null,
      "metadata": {
        "id": "aOc7hvDlPIbG"
      },
      "outputs": [],
      "source": [
        "BATCH_SIZE_TRAIN = 64\n",
        "BATCH_SIZE_TEST = 16\n",
        "SHUFFLE_BUFFER_SIZE = 100\n",
        "\n",
        "train_dataset = train_dataset.shuffle(SHUFFLE_BUFFER_SIZE).map(lambda image, label: augment(image, label, mode = 'train'), num_parallel_calls = tf.data.experimental.AUTOTUNE).batch(BATCH_SIZE_TRAIN)\n",
        "test_dataset = test_dataset.map(lambda image, label: augment(image, label, mode = 'eval'), num_parallel_calls = tf.data.experimental.AUTOTUNE).batch(BATCH_SIZE_TEST)"
      ]
    },
    {
      "cell_type": "markdown",
      "metadata": {
        "id": "Nxzz_enszwXT"
      },
      "source": [
        "# **BUILDING MODEL BASE ON RESNET 34 ARCHITECTURE**"
      ]
    },
    {
      "cell_type": "code",
      "execution_count": null,
      "metadata": {
        "id": "3LrGveUFAAi_"
      },
      "outputs": [],
      "source": [
        "from tensorflow.keras.models import Sequential\n",
        "from tensorflow.keras.models import Model\n",
        "from tensorflow.keras.layers import Conv2D, MaxPooling2D, Activation, Flatten, Dense, BatchNormalization, ZeroPadding2D, Add, Input, AveragePooling2D, GlobalMaxPooling2D, Lambda\n",
        "from tensorflow.keras.initializers import glorot_uniform\n",
        "import tensorflow as tf"
      ]
    },
    {
      "cell_type": "code",
      "execution_count": null,
      "metadata": {
        "id": "QfpznsMx-fJ1"
      },
      "outputs": [],
      "source": [
        "def identity_block(X, f, filters, stage, block):\n",
        "  conv_name_base = 'res' + str(stage) + block + '_branch'\n",
        "  bn_name_base = 'bn' + str(stage) + block + '_branch'\n",
        "\n",
        "  F1, F2 = filters\n",
        "\n",
        "  X_shortcut = X\n",
        "\n",
        "  X = Conv2D(filters = F1, kernel_size= (f,f), strides= (1,1), padding= 'same', name = conv_name_base + '2a', kernel_initializer=glorot_uniform(seed = 0))(X)\n",
        "  X = BatchNormalization(axis = -1, name = bn_name_base + '2a')(X)\n",
        "  X = Activation('relu')(X)\n",
        "\n",
        "  X = Conv2D(filters = F2, kernel_size= (f,f), strides= (1,1), padding= 'same', name = conv_name_base + '2b', kernel_initializer=glorot_uniform(seed = 0))(X)\n",
        "  X = BatchNormalization(axis = -1, name = bn_name_base + '2b')(X)\n",
        "\n",
        "  X = Add()([X_shortcut, X])\n",
        "  X = Activation('relu')(X)\n",
        "\n",
        "  return X"
      ]
    },
    {
      "cell_type": "code",
      "execution_count": null,
      "metadata": {
        "id": "Y1qxTm7_-pGj"
      },
      "outputs": [],
      "source": [
        "def convolutional_block(X, f, filters, stage, block, s = 2):\n",
        "  conv_name_base = 'res' + str(stage) + block + '_branch'\n",
        "  bn_name_base = 'bn' + str(stage) + block + '_branch'\n",
        "\n",
        "  F1, F2 = filters\n",
        "\n",
        "  X_shortcut = X\n",
        "\n",
        "  X = Conv2D(filters = F1, kernel_size= (f,f), strides= (s,s), padding= 'same', name = conv_name_base + '2a', kernel_initializer=glorot_uniform(seed = 0))(X)\n",
        "  X = BatchNormalization(axis = -1, name = bn_name_base + '2a')(X)\n",
        "  X = Activation('relu')(X)\n",
        "\n",
        "  X = Conv2D(filters = F2, kernel_size= (f,f), strides= (1,1), padding= 'same', name = conv_name_base + '2b', kernel_initializer=glorot_uniform(seed = 0))(X)\n",
        "  X = BatchNormalization(axis = -1, name = bn_name_base + '2b')(X)\n",
        "\n",
        "  X_shortcut = Conv2D(filters = F2, kernel_size=(1,1), strides = (s,s), name = conv_name_base + '1', kernel_initializer=glorot_uniform(seed = 0))(X_shortcut)\n",
        "  X_shortcut = BatchNormalization(axis = -1, name = bn_name_base + '1')(X_shortcut)\n",
        "\n",
        "  X = Add()([X_shortcut, X])\n",
        "  X = Activation('relu')(X)\n",
        "\n",
        "  return X"
      ]
    },
    {
      "cell_type": "code",
      "execution_count": null,
      "metadata": {
        "id": "jQIYfPmX-suP"
      },
      "outputs": [],
      "source": [
        "def ResNet_34Base(input_shape, classes, activation = 'softmax'):\n",
        "  X_input = Input(input_shape)\n",
        "\n",
        "  X = ZeroPadding2D((3,3))(X_input)\n",
        "\n",
        "  #Stage 1\n",
        "  X = Conv2D(64, (7, 7), strides = (2, 2), name = 'conv1', kernel_initializer = glorot_uniform(seed=0))(X)\n",
        "  X = BatchNormalization(axis = 3, name = 'bn_conv1')(X)\n",
        "  X = Activation('relu')(X)\n",
        "  X = MaxPooling2D((3, 3), strides=(2, 2))(X)\n",
        "\n",
        "  #Stage 2\n",
        "  X = convolutional_block(X, f = 3, filters = [64, 64], stage = 2, block = 'a', s = 1)\n",
        "  X = identity_block(X, f = 3, filters= [64, 64], stage = 2, block = 'b')\n",
        "  X = identity_block(X, f = 3, filters= [64, 64], stage = 2, block = 'c')\n",
        "\n",
        "  #Stage 3\n",
        "  X = convolutional_block(X, f = 3, filters = [128, 128], stage = 3, block = 'a', s = 2)\n",
        "  X = identity_block(X, f = 3, filters= [128, 128], stage = 3, block = 'b')\n",
        "  X = identity_block(X, f = 3, filters= [128, 128], stage = 3, block = 'c')\n",
        "  X = identity_block(X, f = 3, filters= [128, 128], stage = 3, block = 'd')\n",
        "\n",
        "  #Stage 4\n",
        "  X = convolutional_block(X, f = 3, filters = [256, 256], stage = 4, block = 'a', s = 2)\n",
        "  X = identity_block(X, f = 3, filters= [256, 256], stage = 4, block = 'b')\n",
        "  X = identity_block(X, f = 3, filters= [256, 256], stage = 4, block = 'c')\n",
        "  X = identity_block(X, f = 3, filters= [256, 256], stage = 4, block = 'd')\n",
        "  X = identity_block(X, f = 3, filters= [256, 256], stage = 4, block = 'e')\n",
        "  X = identity_block(X, f = 3, filters= [256, 256], stage = 4, block = 'f')\n",
        "\n",
        "  #Stage 5\n",
        "  X = convolutional_block(X, f = 3, filters = [512, 512], stage = 5, block = 'a', s = 2)\n",
        "  X = identity_block(X, f = 3, filters= [512, 512], stage = 5, block = 'b')\n",
        "  X = identity_block(X, f = 3, filters= [512, 512], stage = 5, block = 'c')\n",
        "\n",
        "  X = AveragePooling2D(pool_size=(2,2), name = 'avg_pool')(X)\n",
        "\n",
        "  X = Flatten()(X)\n",
        "  X = Dense(classes, activation= 'softmax', name = 'fc' + str(classes), kernel_initializer=glorot_uniform(seed = 0))(X)\n",
        "\n",
        "  model = Model(inputs = X_input, outputs = X, name = 'age_resnet_34')\n",
        "  return model"
      ]
    },
    {
      "cell_type": "code",
      "execution_count": null,
      "metadata": {
        "id": "dFaQe2uSldN6"
      },
      "outputs": [],
      "source": [
        "model = ResNet_34Base((224, 224, 3), 70)"
      ]
    },
    {
      "cell_type": "code",
      "execution_count": null,
      "metadata": {
        "id": "71M2Phe08eGA"
      },
      "outputs": [],
      "source": [
        "model.summary()"
      ]
    },
    {
      "cell_type": "markdown",
      "metadata": {
        "id": "lthFNHcQaxJ8"
      },
      "source": [
        "**Model Architecture**"
      ]
    },
    {
      "cell_type": "code",
      "execution_count": null,
      "metadata": {
        "id": "uVvnNEpe042q"
      },
      "outputs": [],
      "source": [
        "from tensorflow.keras.utils import plot_model\n",
        "\n",
        "plot_model(model, to_file = 'Resnet34Base.png', show_shapes = True)"
      ]
    },
    {
      "cell_type": "code",
      "execution_count": null,
      "metadata": {
        "id": "XjZQWyXAHXko"
      },
      "outputs": [],
      "source": [
        "def mean(p_i):\n",
        "  mean = 0\n",
        "  # print('y_pred_i', y_pred_i)\n",
        "  # print('Shape', tf.shape(y_pred_i))\n",
        "  # for j in range(tf.shape(y_pred_i).numpy().shape[1]):\n",
        "  for j in range(len(p_i)):\n",
        "    mean += p_i[j]*(j+1)\n",
        "  return mean"
      ]
    },
    {
      "cell_type": "code",
      "execution_count": null,
      "metadata": {
        "id": "rxmwcw3lkQA5"
      },
      "outputs": [],
      "source": [
        "def variance(p_i):\n",
        "  variance = 0\n",
        "  # print('y_pred_i',y_pred_i)\n",
        "  # for j in range(tf.shape(y_pred_i).numpy().shape[1]):\n",
        "  for j in range(len(p_i)):\n",
        "    variance += p_i[j]*((j+1) - mean(p_i))**2\n",
        "  return variance"
      ]
    },
    {
      "cell_type": "code",
      "execution_count": null,
      "metadata": {
        "id": "SI5E28e_lIN7"
      },
      "outputs": [],
      "source": [
        "def mean_loss(y_true, p_pred):\n",
        "  # print('y_pred', y_pred)\n",
        "  # print('y_true', y_true)\n",
        "  # print('Shape', p_pred.numpy().shape)\n",
        "  m_tensor = tf.constant([mean(i) for i in p_pred.numpy()], dtype = 'float32')\n",
        "  squared_difference = tf.square(tf.cast(y_true, dtype = 'float32') - m_tensor)\n",
        "  return (1/2)*tf.reduce_mean(squared_difference, axis=-1)"
      ]
    },
    {
      "cell_type": "code",
      "execution_count": null,
      "metadata": {
        "id": "KO6kLCzeoZfc"
      },
      "outputs": [],
      "source": [
        "def variance_loss(y_true, p_pred):\n",
        "  total_variance = 0\n",
        "  # for i in range(tf.shape(y_pred_i).numpy().shape[1]):\n",
        "  # print(p_pred.numpy().shape)\n",
        "  for i in range(p_pred.numpy().shape[0]):\n",
        "    total_variance += variance(p_pred.numpy()[i])\n",
        "  return (1/p_pred.numpy().shape[0])*total_variance"
      ]
    },
    {
      "cell_type": "code",
      "execution_count": null,
      "metadata": {
        "id": "nFp3itxx-vKI"
      },
      "outputs": [],
      "source": [
        "def loss(model, x, y_true, lambda1, lambda2, training):\n",
        "  p_pred = model(x, training=training)\n",
        "  # y_pred = tf.constant([mean(i) for i in p_pred.numpy()], dtype = 'float32')\n",
        "  # print(y_pred)\n",
        "  softmax_Loss = tf.keras.losses.SparseCategoricalCrossentropy()\n",
        "  return softmax_Loss(y_true, p_pred) + lambda1*mean_loss(y_true, p_pred) + lambda2*variance_loss(y_true, p_pred)"
      ]
    },
    {
      "cell_type": "code",
      "execution_count": null,
      "metadata": {
        "id": "C32BU_hlY9IQ"
      },
      "outputs": [],
      "source": [
        "INIT_LEARNING_RATE = 0.001\n",
        "EPOCHS = 100\n",
        "LAMBDA_1 = 0.2\n",
        "LAMBDA_2 = 0.05"
      ]
    },
    {
      "cell_type": "code",
      "execution_count": null,
      "metadata": {
        "id": "P8mHEo4-Xcds"
      },
      "outputs": [],
      "source": [
        "lr_schedule = tf.keras.optimizers.schedules.ExponentialDecay(\n",
        "    initial_learning_rate=INIT_LEARNING_RATE,\n",
        "    decay_steps=200,\n",
        "    decay_rate=0.1,\n",
        "    staircase = True\n",
        ")"
      ]
    },
    {
      "cell_type": "code",
      "execution_count": null,
      "metadata": {
        "id": "O1uoEjsmXUHt"
      },
      "outputs": [],
      "source": [
        "optimizer = tf.keras.optimizers.SGD(learning_rate=lr_schedule, momentum=0.9, nesterov=True)"
      ]
    },
    {
      "cell_type": "code",
      "execution_count": null,
      "metadata": {
        "id": "wRePoV7WLI80"
      },
      "outputs": [],
      "source": [
        "def grad(model, inputs, targets, lambda1, lambda2):\n",
        "  with tf.GradientTape() as tape:\n",
        "    loss_value = loss(model, inputs, targets, lambda1, lambda2, training=True)\n",
        "  return loss_value, tape.gradient(loss_value, model.trainable_variables)"
      ]
    },
    {
      "cell_type": "code",
      "execution_count": null,
      "metadata": {
        "id": "tg8eUeegLpBk"
      },
      "outputs": [],
      "source": [
        "import progressbar\n",
        "\n",
        "def train(train_set, test_set, model, h_para = {}):\n",
        "  train_loss_results = []\n",
        "  train_mae_results = []\n",
        "  test_loss_results = []\n",
        "  test_mae_results = []\n",
        "\n",
        "  num_epochs, lambda1, lambda2 = h_para['epochs'], h_para['l_1'], h_para['l_2']\n",
        "\n",
        "  # widgets = ['Epochs: ', progressbar.Percentage(), \" \", progressbar.Bar(), \" \", progressbar.ETA()]\n",
        "  # pbar = progressbar.ProgressBar(maxval = 1000, widgets = widgets).start()\n",
        "\n",
        "  for epoch in range(num_epochs):\n",
        "    epoch_train_loss_avg = tf.keras.metrics.Mean()\n",
        "    epoch_train_mae = tf.keras.metrics.MeanAbsoluteError()\n",
        "    epoch_test_loss_avg = tf.keras.metrics.Mean()\n",
        "    epoch_test_mae = tf.keras.metrics.MeanAbsoluteError()\n",
        "\n",
        "    # Training loop - using batches of 64\n",
        "    for count, (x, y) in enumerate(train_set):\n",
        "      #Calculate loss value and update weight\n",
        "      loss_value, grads = grad(model, x, y, lambda1, lambda2)\n",
        "      optimizer.apply_gradients(zip(grads, model.trainable_variables))\n",
        "\n",
        "      # Track progress\n",
        "      epoch_train_loss_avg.update_state(loss_value)  # Add current batch loss\n",
        "      # Compare predicted label to actual label\n",
        "      # training=True is needed only if there are layers with different\n",
        "      # behavior during training versus inference (e.g. Dropout).\n",
        "      probs = model(x, training=True)\n",
        "      # y_hat = tf.argmax(probs, axis=1, output_type=tf.int32)\n",
        "      y_hat = tf.constant([mean(i) for i in probs.numpy()], dtype = 'float32')\n",
        "      y_hat = tf.round(y_hat)\n",
        "      epoch_train_mae.update_state(y, y_hat)\n",
        "\n",
        "      # pbar.update(count)\n",
        "\n",
        "    train_loss_results.append(epoch_train_loss_avg.result())\n",
        "    train_mae_results.append(epoch_train_mae.result())\n",
        "\n",
        "\n",
        "    #Validation loop batch size 16\n",
        "    for test_x, test_y in test_set:\n",
        "      # test_y_hat = tf.argmax(test_probs, axis=1, output_type=tf.int32)\n",
        "      test_loss_value, _ = grad(model, test_x, test_y, lambda1, lambda2)\n",
        "      epoch_test_loss_avg.update_state(test_loss_value)\n",
        "      \n",
        "      test_probs = model(test_x, training=False)\n",
        "      test_y_hat = tf.constant([mean(i) for i in test_probs.numpy()], dtype = 'float32')\n",
        "      test_y_hat = tf.round(test_y_hat)\n",
        "      epoch_test_mae.update_state(test_y, test_y_hat)\n",
        "\n",
        "    test_loss_results.append(epoch_test_loss_avg.result())\n",
        "    test_mae_results.append(epoch_test_mae.result())\n",
        "\n",
        "    if epoch % 5 == 0:\n",
        "      print(\"\\nEpoch {:03d}: Loss: {:.3f}, MAE: {:3f}, Val_loss : {:.3f}, Val_MAE: {:3f}\".format(epoch,\n",
        "                                                                  epoch_train_loss_avg.result(),\n",
        "                                                                  epoch_train_mae.result(),\n",
        "                                                                  epoch_test_loss_avg.result(),\n",
        "                                                                  epoch_test_mae.result()))\n",
        "      \n",
        "  # pbar.finish()\n",
        "\n",
        "  history = {'Loss':train_loss_results, 'MAE': train_mae_results, 'Val_loss':test_loss_results, 'Val_MAE':test_mae_results}\n",
        "\n",
        "  return history"
      ]
    },
    {
      "cell_type": "code",
      "execution_count": null,
      "metadata": {
        "colab": {
          "background_save": true,
          "base_uri": "https://localhost:8080/"
        },
        "id": "302j5TeX7fz7",
        "outputId": "0379be90-5822-4b4d-b079-419e155e6dc5"
      },
      "outputs": [
        {
          "name": "stdout",
          "output_type": "stream",
          "text": [
            "\n",
            "Epoch 000: Loss: 41.061, MAE: 11.472976, Val_loss : 27.177, Val_MAE: 13.369658\n",
            "\n",
            "Epoch 005: Loss: 28.838, MAE: 9.751384, Val_loss : 27.821, Val_MAE: 10.044871\n",
            "\n",
            "Epoch 010: Loss: 26.809, MAE: 9.372451, Val_loss : 26.554, Val_MAE: 9.604701\n",
            "\n",
            "Epoch 015: Loss: 25.665, MAE: 9.459316, Val_loss : 27.378, Val_MAE: 9.646902\n",
            "\n",
            "Epoch 020: Loss: 23.828, MAE: 8.918779, Val_loss : 26.057, Val_MAE: 9.446581\n",
            "\n",
            "Epoch 025: Loss: 23.621, MAE: 9.001930, Val_loss : 25.575, Val_MAE: 9.364317\n",
            "\n",
            "Epoch 030: Loss: 23.274, MAE: 8.888731, Val_loss : 25.386, Val_MAE: 9.388355\n",
            "\n",
            "Epoch 035: Loss: 22.701, MAE: 8.722065, Val_loss : 25.360, Val_MAE: 9.353632\n",
            "\n",
            "Epoch 040: Loss: 22.898, MAE: 8.881556, Val_loss : 25.309, Val_MAE: 9.354701\n",
            "\n",
            "Epoch 045: Loss: 23.053, MAE: 8.919836, Val_loss : 25.232, Val_MAE: 9.369124\n",
            "\n",
            "Epoch 050: Loss: 22.617, MAE: 8.723449, Val_loss : 25.215, Val_MAE: 9.349894\n",
            "\n",
            "Epoch 055: Loss: 22.942, MAE: 8.822735, Val_loss : 25.214, Val_MAE: 9.312500\n",
            "\n",
            "Epoch 060: Loss: 22.408, MAE: 8.684404, Val_loss : 25.210, Val_MAE: 9.359509\n",
            "\n",
            "Epoch 065: Loss: 23.147, MAE: 8.861123, Val_loss : 25.208, Val_MAE: 9.346154\n",
            "\n",
            "Epoch 070: Loss: 22.472, MAE: 8.689030, Val_loss : 25.208, Val_MAE: 9.326923\n",
            "\n",
            "Epoch 075: Loss: 22.930, MAE: 8.837485, Val_loss : 25.207, Val_MAE: 9.322115\n",
            "\n",
            "Epoch 080: Loss: 22.936, MAE: 8.872231, Val_loss : 25.207, Val_MAE: 9.365385\n",
            "\n",
            "Epoch 085: Loss: 22.641, MAE: 8.782270, Val_loss : 25.207, Val_MAE: 9.336538\n",
            "\n",
            "Epoch 090: Loss: 22.806, MAE: 8.781178, Val_loss : 25.207, Val_MAE: 9.353632\n",
            "\n",
            "Epoch 095: Loss: 22.473, MAE: 8.681964, Val_loss : 25.207, Val_MAE: 9.326923\n"
          ]
        }
      ],
      "source": [
        "h_para = {'epochs':EPOCHS, 'l_1': LAMBDA_1, 'l_2' : LAMBDA_2}\n",
        "\n",
        "history = train(train_dataset, test_dataset, model, h_para)"
      ]
    },
    {
      "cell_type": "code",
      "execution_count": null,
      "metadata": {
        "colab": {
          "background_save": true
        },
        "id": "uISHdyZg2DuL"
      },
      "outputs": [],
      "source": [
        "import matplotlib.pyplot as plt\n",
        "\n",
        "def plot_history(history):\n",
        "\n",
        "  fig, axes = plt.subplots(2, sharex=True, figsize=(12, 8))\n",
        "  fig.suptitle('Training Metrics')\n",
        "  epochs = 20\n",
        "\n",
        "  axes[0].set_xlabel(\"Epochs\", fontsize=14)\n",
        "  axes[0].set_ylabel(\"Loss\", fontsize=14)\n",
        "  axes[0].plot(history['Loss'], 'b')\n",
        "  axes[0].plot(history['Val_loss'], 'r')\n",
        "\n",
        "  axes[1].set_xlabel(\"Epochs\", fontsize=14)\n",
        "  axes[1].set_ylabel(\"MAE\", fontsize=14)\n",
        "  axes[1].plot(history['MAE'], 'b')\n",
        "  axes[1].plot(history['Val_MAE'], 'r')\n",
        "  plt.show()"
      ]
    },
    {
      "cell_type": "code",
      "execution_count": null,
      "metadata": {
        "colab": {
          "background_save": true
        },
        "id": "34XRb2dp7bZp",
        "outputId": "c7c5f529-03e1-4d89-a666-dad293bdb8b2"
      },
      "outputs": [
        {
          "data": {
            "image/png": "[encoded data removed]",
            "text/plain": [
              "<Figure size 864x576 with 2 Axes>"
            ]
          },
          "metadata": {},
          "output_type": "display_data"
        }
      ],
      "source": [
        "plot_history(history)"
      ]
    },
    {
      "cell_type": "markdown",
      "metadata": {
        "id": "kib-Bczet7kj"
      },
      "source": [
        "**TESTING**"
      ]
    },
    {
      "cell_type": "code",
      "execution_count": null,
      "metadata": {
        "colab": {
          "background_save": true
        },
        "id": "AtNb34ryoS-6"
      },
      "outputs": [],
      "source": [
        "test_image = testData[90]\n",
        "test_image = tf.constant(test_image, dtype = 'float32')\n",
        "test_image = tf.expand_dims(test_image, axis = 0)\n",
        "prediction = model(test_image)"
      ]
    },
    {
      "cell_type": "code",
      "execution_count": null,
      "metadata": {
        "colab": {
          "background_save": true
        },
        "id": "C1tsL_NOr7_W",
        "outputId": "457f21ab-4a2b-4e49-b8c5-2ca1f1f69f4b"
      },
      "outputs": [
        {
          "data": {
            "text/plain": [
              "<tf.Tensor: shape=(1, 70), dtype=float32, numpy=\n",
              "array([[6.04403168e-02, 2.18289513e-02, 1.38765097e-01, 4.02215980e-02,\n",
              "        5.28460145e-02, 1.65729061e-01, 1.54233212e-02, 9.44667310e-02,\n",
              "        4.79953513e-02, 1.89156376e-03, 3.11193354e-02, 2.45790444e-02,\n",
              "        1.38156582e-02, 2.24238448e-02, 3.86009645e-03, 3.89616899e-02,\n",
              "        3.88677828e-02, 2.76776291e-02, 5.97310662e-02, 1.97438635e-02,\n",
              "        2.21182480e-02, 2.60284822e-03, 1.99642871e-03, 6.15390064e-03,\n",
              "        3.68672051e-03, 2.72324006e-03, 3.68177425e-03, 3.16851190e-03,\n",
              "        7.89037161e-03, 6.37068995e-04, 3.66192614e-03, 7.25908962e-04,\n",
              "        1.57867186e-03, 1.08273898e-03, 6.04753965e-04, 8.36935593e-04,\n",
              "        1.05375948e-03, 2.63501570e-04, 4.34990274e-03, 7.52921624e-04,\n",
              "        4.11275600e-04, 9.14780714e-04, 1.60146374e-04, 9.10633898e-05,\n",
              "        1.73661436e-04, 2.10984866e-03, 4.48990380e-04, 3.46058339e-04,\n",
              "        1.17394270e-03, 5.75804675e-04, 5.94685262e-04, 1.80096555e-04,\n",
              "        5.33559418e-04, 4.11894958e-04, 5.80352062e-05, 4.90701408e-04,\n",
              "        2.56078820e-05, 1.98968937e-05, 1.06064006e-04, 3.35109908e-05,\n",
              "        5.44711111e-05, 1.40535310e-04, 1.96723777e-04, 3.24724591e-04,\n",
              "        2.85665119e-05, 9.83225800e-06, 3.78659934e-05, 1.71505118e-04,\n",
              "        4.39003234e-05, 1.74080298e-04]], dtype=float32)>"
            ]
          },
          "execution_count": null,
          "metadata": {},
          "output_type": "execute_result"
        }
      ],
      "source": [
        "prediction"
      ]
    },
    {
      "cell_type": "code",
      "execution_count": null,
      "metadata": {
        "colab": {
          "background_save": true
        },
        "id": "6jOmtZUdsCEL",
        "outputId": "914b8791-c59e-4bbd-ba81-24267d401ee4"
      },
      "outputs": [
        {
          "data": {
            "text/plain": [
              "<tf.Tensor: shape=(1,), dtype=int32, numpy=array([5], dtype=int32)>"
            ]
          },
          "execution_count": null,
          "metadata": {},
          "output_type": "execute_result"
        }
      ],
      "source": [
        "prediction = tf.argmax(prediction, axis = 1, output_type=tf.int32)\n",
        "prediction"
      ]
    },
    {
      "cell_type": "code",
      "execution_count": null,
      "metadata": {
        "colab": {
          "background_save": true
        },
        "id": "9fVaCp1UsofO",
        "outputId": "b5200041-5024-4031-a228-c653a9992e5f"
      },
      "outputs": [
        {
          "name": "stdout",
          "output_type": "stream",
          "text": [
            "Prediction 5\n"
          ]
        }
      ],
      "source": [
        "age_pred = int(prediction.numpy())\n",
        "print('Prediction', age_pred)"
      ]
    },
    {
      "cell_type": "code",
      "execution_count": null,
      "metadata": {
        "colab": {
          "background_save": true
        },
        "id": "ZORvJ5fstRky",
        "outputId": "c508e303-c078-4e86-bc31-e51ab8f0f005"
      },
      "outputs": [
        {
          "name": "stdout",
          "output_type": "stream",
          "text": [
            "Ground true 13\n"
          ]
        }
      ],
      "source": [
        "age_true = int(testLabels[90])\n",
        "print('Ground true', age_true)"
      ]
    },
    {
      "cell_type": "code",
      "execution_count": null,
      "metadata": {
        "colab": {
          "background_save": true
        },
        "id": "fhR21HQktEla",
        "outputId": "5aa943cf-99ce-41a8-daf2-c59aade69101"
      },
      "outputs": [
        {
          "data": {
            "image/png": "[encoded data removed]",
            "text/plain": [
              "<Figure size 360x360 with 1 Axes>"
            ]
          },
          "metadata": {},
          "output_type": "display_data"
        }
      ],
      "source": [
        "plt.figure(figsize=(5,5))\n",
        "plt.imshow(testData[90])\n",
        "plt.show()"
      ]
    },
    {
      "cell_type": "markdown",
      "metadata": {
        "id": "6X-3R0FSA_0T"
      },
      "source": [
        "**LET'S LOAD SOME IMAGES AND TEST**\n",
        "\n",
        "*Note that because data was trained on white people dataset so the prediction may not obtain a good result on none-white people*"
      ]
    },
    {
      "cell_type": "code",
      "execution_count": null,
      "metadata": {
        "colab": {
          "background_save": true
        },
        "id": "_cVT8OfU_RqE",
        "outputId": "c5280a7b-2426-4dcc-b142-7c70f27c8247"
      },
      "outputs": [
        {
          "data": {
            "text/html": [
              "\n",
              "     <input type=\"file\" id=\"files-b3285917-e67f-42bc-a7a6-ee18208754b8\" name=\"files[]\" multiple disabled\n",
              "        style=\"border:none\" />\n",
              "     <output id=\"result-b3285917-e67f-42bc-a7a6-ee18208754b8\">\n",
              "      Upload widget is only available when the cell has been executed in the\n",
              "      current browser session. Please rerun this cell to enable.\n",
              "      </output>\n",
              "      <script src=\"/nbextensions/google.colab/files.js\"></script> "
            ],
            "text/plain": [
              "<IPython.core.display.HTML object>"
            ]
          },
          "metadata": {},
          "output_type": "display_data"
        },
        {
          "ename": "TypeError",
          "evalue": "ignored",
          "output_type": "error",
          "traceback": [
            "\u001b[0;31m---------------------------------------------------------------------------\u001b[0m",
            "\u001b[0;31mTypeError\u001b[0m                                 Traceback (most recent call last)",
            "\u001b[0;32m<ipython-input-53-f1e5f01739b5>\u001b[0m in \u001b[0;36m<module>\u001b[0;34m()\u001b[0m\n\u001b[1;32m      4\u001b[0m \u001b[0;32mfrom\u001b[0m \u001b[0mkeras\u001b[0m\u001b[0;34m.\u001b[0m\u001b[0mpreprocessing\u001b[0m \u001b[0;32mimport\u001b[0m \u001b[0mimage\u001b[0m\u001b[0;34m\u001b[0m\u001b[0;34m\u001b[0m\u001b[0m\n\u001b[1;32m      5\u001b[0m \u001b[0;34m\u001b[0m\u001b[0m\n\u001b[0;32m----> 6\u001b[0;31m \u001b[0muploaded\u001b[0m\u001b[0;34m=\u001b[0m\u001b[0mfiles\u001b[0m\u001b[0;34m.\u001b[0m\u001b[0mupload\u001b[0m\u001b[0;34m(\u001b[0m\u001b[0;34m)\u001b[0m\u001b[0;34m\u001b[0m\u001b[0;34m\u001b[0m\u001b[0m\n\u001b[0m\u001b[1;32m      7\u001b[0m \u001b[0;34m\u001b[0m\u001b[0m\n\u001b[1;32m      8\u001b[0m \u001b[0;32mfor\u001b[0m \u001b[0mfn\u001b[0m \u001b[0;32min\u001b[0m \u001b[0muploaded\u001b[0m\u001b[0;34m.\u001b[0m\u001b[0mkeys\u001b[0m\u001b[0;34m(\u001b[0m\u001b[0;34m)\u001b[0m\u001b[0;34m:\u001b[0m\u001b[0;34m\u001b[0m\u001b[0;34m\u001b[0m\u001b[0m\n",
            "\u001b[0;32m/usr/local/lib/python3.7/dist-packages/google/colab/files.py\u001b[0m in \u001b[0;36mupload\u001b[0;34m()\u001b[0m\n\u001b[1;32m     44\u001b[0m   \"\"\"\n\u001b[1;32m     45\u001b[0m \u001b[0;34m\u001b[0m\u001b[0m\n\u001b[0;32m---> 46\u001b[0;31m   \u001b[0muploaded_files\u001b[0m \u001b[0;34m=\u001b[0m \u001b[0m_upload_files\u001b[0m\u001b[0;34m(\u001b[0m\u001b[0mmultiple\u001b[0m\u001b[0;34m=\u001b[0m\u001b[0;32mTrue\u001b[0m\u001b[0;34m)\u001b[0m\u001b[0;34m\u001b[0m\u001b[0;34m\u001b[0m\u001b[0m\n\u001b[0m\u001b[1;32m     47\u001b[0m   \u001b[0;31m# Mapping from original filename to filename as saved locally.\u001b[0m\u001b[0;34m\u001b[0m\u001b[0;34m\u001b[0m\u001b[0;34m\u001b[0m\u001b[0m\n\u001b[1;32m     48\u001b[0m   \u001b[0mlocal_filenames\u001b[0m \u001b[0;34m=\u001b[0m \u001b[0mdict\u001b[0m\u001b[0;34m(\u001b[0m\u001b[0;34m)\u001b[0m\u001b[0;34m\u001b[0m\u001b[0;34m\u001b[0m\u001b[0m\n",
            "\u001b[0;32m/usr/local/lib/python3.7/dist-packages/google/colab/files.py\u001b[0m in \u001b[0;36m_upload_files\u001b[0;34m(multiple)\u001b[0m\n\u001b[1;32m    124\u001b[0m   \u001b[0mfiles\u001b[0m \u001b[0;34m=\u001b[0m \u001b[0m_collections\u001b[0m\u001b[0;34m.\u001b[0m\u001b[0mdefaultdict\u001b[0m\u001b[0;34m(\u001b[0m\u001b[0m_six\u001b[0m\u001b[0;34m.\u001b[0m\u001b[0mbinary_type\u001b[0m\u001b[0;34m)\u001b[0m\u001b[0;34m\u001b[0m\u001b[0;34m\u001b[0m\u001b[0m\n\u001b[1;32m    125\u001b[0m \u001b[0;34m\u001b[0m\u001b[0m\n\u001b[0;32m--> 126\u001b[0;31m   \u001b[0;32mwhile\u001b[0m \u001b[0mresult\u001b[0m\u001b[0;34m[\u001b[0m\u001b[0;34m'action'\u001b[0m\u001b[0;34m]\u001b[0m \u001b[0;34m!=\u001b[0m \u001b[0;34m'complete'\u001b[0m\u001b[0;34m:\u001b[0m\u001b[0;34m\u001b[0m\u001b[0;34m\u001b[0m\u001b[0m\n\u001b[0m\u001b[1;32m    127\u001b[0m     result = _output.eval_js(\n\u001b[1;32m    128\u001b[0m         'google.colab._files._uploadFilesContinue(\"{output_id}\")'.format(\n",
            "\u001b[0;31mTypeError\u001b[0m: 'NoneType' object is not subscriptable"
          ]
        }
      ],
      "source": [
        "import numpy as np\n",
        "import matplotlib as mp\n",
        "from google.colab import files\n",
        "from keras.preprocessing import image\n",
        "\n",
        "uploaded=files.upload()\n",
        "\n",
        "for fn in uploaded.keys():\n",
        " \n",
        "  # predicting images\n",
        "  path='/content/drive/My Drive/WORKSPACE/HK192/AI/AI_COLAB/FG-NET/' + fn\n",
        "  img=image.load_img(path, target_size=(224, 224))\n",
        "  \n",
        "  x=image.img_to_array(img)\n",
        "  x_tensor = tf.constant(x, dtype = 'float32')\n",
        "  x_tensor = tf.expand_dims(x_tensor, axis = 0)\n",
        "  probs = model(x_tensor, training = False)\n",
        "  prediction = tf.argmax(probs, axis = 1, output_type=tf.int32)\n",
        "\n",
        "  age_pred = int(prediction.numpy())\n",
        "  mp.pyplot.figure(figsize = (5,5))\n",
        "  mp.pyplot.imshow(img)\n",
        "  mp.pyplot.axis('Off')\n",
        "  mp.pyplot.show()\n",
        "  print('Age: {}'.format(age_pred))"
      ]
    },
    {
      "cell_type": "code",
      "execution_count": null,
      "metadata": {
        "colab": {
          "background_save": true
        },
        "id": "eqWnvRY-n_WM"
      },
      "outputs": [],
      "source": [
        ""
      ]
    }
  ],
  "metadata": {
    "accelerator": "GPU",
    "colab": {
      "collapsed_sections": [
        "7cBMes6FcK_G"
      ],
      "name": "39120109-SHARON SWETHA X-Age_Estimation .ipynb",
      "provenance": []
    },
    "kernelspec": {
      "display_name": "Python 3",
      "name": "python3"
    }
  },
  "nbformat": 4,
  "nbformat_minor": 0
}